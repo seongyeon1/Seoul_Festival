{
 "cells": [
  {
   "cell_type": "code",
   "execution_count": 12,
   "metadata": {},
   "outputs": [],
   "source": [
    "import pandas as pd\n",
    "import geopandas as gpd\n",
    "from shapely.geometry import Point, LineString"
   ]
  },
  {
   "cell_type": "code",
   "execution_count": 37,
   "metadata": {},
   "outputs": [],
   "source": [
    "# 1. CSV 파일에서 유동인구 데이터 및 도로링크 데이터를 읽어옵니다.\n",
    "population_data = pd.read_csv('/Volumes/T7 Shield/응용통계학과/3학년 2학기/공모전/2023 서울시 빅데이터캠퍼스 공모전/Recent_Resource/seoul_feat/서울시10m도로구간별추정유동인구데이터(여의동10월).csv')\n",
    "road_link_data = pd.read_csv('/Volumes/T7 Shield/응용통계학과/3학년 2학기/공모전/2023 서울시 빅데이터캠퍼스 공모전/Recent_Resource/seoul_feat/10m도로링크.csv')"
   ]
  },
  {
   "cell_type": "code",
   "execution_count": 38,
   "metadata": {},
   "outputs": [
    {
     "data": {
      "text/html": [
       "<div>\n",
       "<style scoped>\n",
       "    .dataframe tbody tr th:only-of-type {\n",
       "        vertical-align: middle;\n",
       "    }\n",
       "\n",
       "    .dataframe tbody tr th {\n",
       "        vertical-align: top;\n",
       "    }\n",
       "\n",
       "    .dataframe thead th {\n",
       "        text-align: right;\n",
       "    }\n",
       "</style>\n",
       "<table border=\"1\" class=\"dataframe\">\n",
       "  <thead>\n",
       "    <tr style=\"text-align: right;\">\n",
       "      <th></th>\n",
       "      <th>STDR_YM_CD</th>\n",
       "      <th>RD_LINK_ID</th>\n",
       "      <th>SIGNGU_CD</th>\n",
       "      <th>ADSTRD_CD</th>\n",
       "      <th>DAYWEEK_CD</th>\n",
       "      <th>AGRDE_CD</th>\n",
       "      <th>TMZON_CD</th>\n",
       "      <th>FLPOP_CO</th>\n",
       "    </tr>\n",
       "  </thead>\n",
       "  <tbody>\n",
       "    <tr>\n",
       "      <th>0</th>\n",
       "      <td>201510</td>\n",
       "      <td>121646</td>\n",
       "      <td>11560</td>\n",
       "      <td>11560540</td>\n",
       "      <td>1</td>\n",
       "      <td>0</td>\n",
       "      <td>0</td>\n",
       "      <td>64</td>\n",
       "    </tr>\n",
       "    <tr>\n",
       "      <th>1</th>\n",
       "      <td>201510</td>\n",
       "      <td>121646</td>\n",
       "      <td>11560</td>\n",
       "      <td>11560540</td>\n",
       "      <td>1</td>\n",
       "      <td>0</td>\n",
       "      <td>1</td>\n",
       "      <td>0</td>\n",
       "    </tr>\n",
       "    <tr>\n",
       "      <th>2</th>\n",
       "      <td>201510</td>\n",
       "      <td>121646</td>\n",
       "      <td>11560</td>\n",
       "      <td>11560540</td>\n",
       "      <td>1</td>\n",
       "      <td>0</td>\n",
       "      <td>2</td>\n",
       "      <td>11</td>\n",
       "    </tr>\n",
       "    <tr>\n",
       "      <th>3</th>\n",
       "      <td>201510</td>\n",
       "      <td>121646</td>\n",
       "      <td>11560</td>\n",
       "      <td>11560540</td>\n",
       "      <td>1</td>\n",
       "      <td>0</td>\n",
       "      <td>3</td>\n",
       "      <td>15</td>\n",
       "    </tr>\n",
       "    <tr>\n",
       "      <th>4</th>\n",
       "      <td>201510</td>\n",
       "      <td>121646</td>\n",
       "      <td>11560</td>\n",
       "      <td>11560540</td>\n",
       "      <td>1</td>\n",
       "      <td>0</td>\n",
       "      <td>4</td>\n",
       "      <td>18</td>\n",
       "    </tr>\n",
       "  </tbody>\n",
       "</table>\n",
       "</div>"
      ],
      "text/plain": [
       "   STDR_YM_CD  RD_LINK_ID  SIGNGU_CD  ADSTRD_CD  DAYWEEK_CD  AGRDE_CD  \\\n",
       "0      201510      121646      11560   11560540           1         0   \n",
       "1      201510      121646      11560   11560540           1         0   \n",
       "2      201510      121646      11560   11560540           1         0   \n",
       "3      201510      121646      11560   11560540           1         0   \n",
       "4      201510      121646      11560   11560540           1         0   \n",
       "\n",
       "   TMZON_CD  FLPOP_CO  \n",
       "0         0        64  \n",
       "1         1         0  \n",
       "2         2        11  \n",
       "3         3        15  \n",
       "4         4        18  "
      ]
     },
     "execution_count": 38,
     "metadata": {},
     "output_type": "execute_result"
    }
   ],
   "source": [
    "population_data.head()"
   ]
  },
  {
   "cell_type": "code",
   "execution_count": 39,
   "metadata": {},
   "outputs": [
    {
     "data": {
      "text/html": [
       "<div>\n",
       "<style scoped>\n",
       "    .dataframe tbody tr th:only-of-type {\n",
       "        vertical-align: middle;\n",
       "    }\n",
       "\n",
       "    .dataframe tbody tr th {\n",
       "        vertical-align: top;\n",
       "    }\n",
       "\n",
       "    .dataframe thead th {\n",
       "        text-align: right;\n",
       "    }\n",
       "</style>\n",
       "<table border=\"1\" class=\"dataframe\">\n",
       "  <thead>\n",
       "    <tr style=\"text-align: right;\">\n",
       "      <th></th>\n",
       "      <th>RD_LINK_ID</th>\n",
       "      <th>ROAD_CD</th>\n",
       "      <th>STDR_YM_CD</th>\n",
       "      <th>SHAPE_FRM_INFO</th>\n",
       "    </tr>\n",
       "  </thead>\n",
       "  <tbody>\n",
       "    <tr>\n",
       "      <th>0</th>\n",
       "      <td>1</td>\n",
       "      <td>411503000001</td>\n",
       "      <td>201506</td>\n",
       "      <td>NaN</td>\n",
       "    </tr>\n",
       "    <tr>\n",
       "      <th>1</th>\n",
       "      <td>10</td>\n",
       "      <td>113204127191</td>\n",
       "      <td>201506</td>\n",
       "      <td>NaN</td>\n",
       "    </tr>\n",
       "    <tr>\n",
       "      <th>2</th>\n",
       "      <td>100</td>\n",
       "      <td>113204127197</td>\n",
       "      <td>201506</td>\n",
       "      <td>NaN</td>\n",
       "    </tr>\n",
       "    <tr>\n",
       "      <th>3</th>\n",
       "      <td>1000</td>\n",
       "      <td>113504130138</td>\n",
       "      <td>201506</td>\n",
       "      <td>NaN</td>\n",
       "    </tr>\n",
       "    <tr>\n",
       "      <th>4</th>\n",
       "      <td>10000</td>\n",
       "      <td>113054124576</td>\n",
       "      <td>201506</td>\n",
       "      <td>NaN</td>\n",
       "    </tr>\n",
       "  </tbody>\n",
       "</table>\n",
       "</div>"
      ],
      "text/plain": [
       "   RD_LINK_ID       ROAD_CD  STDR_YM_CD  SHAPE_FRM_INFO\n",
       "0           1  411503000001      201506             NaN\n",
       "1          10  113204127191      201506             NaN\n",
       "2         100  113204127197      201506             NaN\n",
       "3        1000  113504130138      201506             NaN\n",
       "4       10000  113054124576      201506             NaN"
      ]
     },
     "execution_count": 39,
     "metadata": {},
     "output_type": "execute_result"
    }
   ],
   "source": [
    "road_link_data.head()"
   ]
  },
  {
   "cell_type": "code",
   "execution_count": 45,
   "metadata": {},
   "outputs": [
    {
     "data": {
      "text/html": [
       "<div>\n",
       "<style scoped>\n",
       "    .dataframe tbody tr th:only-of-type {\n",
       "        vertical-align: middle;\n",
       "    }\n",
       "\n",
       "    .dataframe tbody tr th {\n",
       "        vertical-align: top;\n",
       "    }\n",
       "\n",
       "    .dataframe thead th {\n",
       "        text-align: right;\n",
       "    }\n",
       "</style>\n",
       "<table border=\"1\" class=\"dataframe\">\n",
       "  <thead>\n",
       "    <tr style=\"text-align: right;\">\n",
       "      <th></th>\n",
       "      <th>STDR_YM_CD</th>\n",
       "      <th>RD_LINK_ID</th>\n",
       "      <th>SIGNGU_CD</th>\n",
       "      <th>ADSTRD_CD</th>\n",
       "      <th>DAYWEEK_CD</th>\n",
       "      <th>AGRDE_CD</th>\n",
       "      <th>TMZON_CD</th>\n",
       "      <th>FLPOP_CO</th>\n",
       "    </tr>\n",
       "  </thead>\n",
       "  <tbody>\n",
       "    <tr>\n",
       "      <th>26</th>\n",
       "      <td>201510</td>\n",
       "      <td>121646</td>\n",
       "      <td>11560</td>\n",
       "      <td>11560540</td>\n",
       "      <td>1</td>\n",
       "      <td>30</td>\n",
       "      <td>5</td>\n",
       "      <td>6</td>\n",
       "    </tr>\n",
       "    <tr>\n",
       "      <th>124</th>\n",
       "      <td>201510</td>\n",
       "      <td>121887</td>\n",
       "      <td>11560</td>\n",
       "      <td>11560540</td>\n",
       "      <td>1</td>\n",
       "      <td>30</td>\n",
       "      <td>5</td>\n",
       "      <td>62</td>\n",
       "    </tr>\n",
       "    <tr>\n",
       "      <th>222</th>\n",
       "      <td>201510</td>\n",
       "      <td>122452</td>\n",
       "      <td>11560</td>\n",
       "      <td>11560540</td>\n",
       "      <td>1</td>\n",
       "      <td>30</td>\n",
       "      <td>5</td>\n",
       "      <td>58</td>\n",
       "    </tr>\n",
       "    <tr>\n",
       "      <th>320</th>\n",
       "      <td>201510</td>\n",
       "      <td>122566</td>\n",
       "      <td>11560</td>\n",
       "      <td>11560540</td>\n",
       "      <td>1</td>\n",
       "      <td>30</td>\n",
       "      <td>5</td>\n",
       "      <td>78</td>\n",
       "    </tr>\n",
       "    <tr>\n",
       "      <th>418</th>\n",
       "      <td>201510</td>\n",
       "      <td>122807</td>\n",
       "      <td>11560</td>\n",
       "      <td>11560540</td>\n",
       "      <td>1</td>\n",
       "      <td>30</td>\n",
       "      <td>5</td>\n",
       "      <td>83</td>\n",
       "    </tr>\n",
       "    <tr>\n",
       "      <th>...</th>\n",
       "      <td>...</td>\n",
       "      <td>...</td>\n",
       "      <td>...</td>\n",
       "      <td>...</td>\n",
       "      <td>...</td>\n",
       "      <td>...</td>\n",
       "      <td>...</td>\n",
       "      <td>...</td>\n",
       "    </tr>\n",
       "    <tr>\n",
       "      <th>17666</th>\n",
       "      <td>201510</td>\n",
       "      <td>131596</td>\n",
       "      <td>11560</td>\n",
       "      <td>11560540</td>\n",
       "      <td>1</td>\n",
       "      <td>30</td>\n",
       "      <td>5</td>\n",
       "      <td>18</td>\n",
       "    </tr>\n",
       "    <tr>\n",
       "      <th>17764</th>\n",
       "      <td>201510</td>\n",
       "      <td>131603</td>\n",
       "      <td>11560</td>\n",
       "      <td>11560540</td>\n",
       "      <td>1</td>\n",
       "      <td>30</td>\n",
       "      <td>5</td>\n",
       "      <td>9</td>\n",
       "    </tr>\n",
       "    <tr>\n",
       "      <th>17862</th>\n",
       "      <td>201510</td>\n",
       "      <td>131607</td>\n",
       "      <td>11560</td>\n",
       "      <td>11560540</td>\n",
       "      <td>1</td>\n",
       "      <td>30</td>\n",
       "      <td>5</td>\n",
       "      <td>15</td>\n",
       "    </tr>\n",
       "    <tr>\n",
       "      <th>17960</th>\n",
       "      <td>201510</td>\n",
       "      <td>132336</td>\n",
       "      <td>11560</td>\n",
       "      <td>11560540</td>\n",
       "      <td>1</td>\n",
       "      <td>30</td>\n",
       "      <td>5</td>\n",
       "      <td>7</td>\n",
       "    </tr>\n",
       "    <tr>\n",
       "      <th>18058</th>\n",
       "      <td>201510</td>\n",
       "      <td>132343</td>\n",
       "      <td>11560</td>\n",
       "      <td>11560540</td>\n",
       "      <td>1</td>\n",
       "      <td>30</td>\n",
       "      <td>5</td>\n",
       "      <td>17</td>\n",
       "    </tr>\n",
       "  </tbody>\n",
       "</table>\n",
       "<p>185 rows × 8 columns</p>\n",
       "</div>"
      ],
      "text/plain": [
       "       STDR_YM_CD  RD_LINK_ID  SIGNGU_CD  ADSTRD_CD  DAYWEEK_CD  AGRDE_CD  \\\n",
       "26         201510      121646      11560   11560540           1        30   \n",
       "124        201510      121887      11560   11560540           1        30   \n",
       "222        201510      122452      11560   11560540           1        30   \n",
       "320        201510      122566      11560   11560540           1        30   \n",
       "418        201510      122807      11560   11560540           1        30   \n",
       "...           ...         ...        ...        ...         ...       ...   \n",
       "17666      201510      131596      11560   11560540           1        30   \n",
       "17764      201510      131603      11560   11560540           1        30   \n",
       "17862      201510      131607      11560   11560540           1        30   \n",
       "17960      201510      132336      11560   11560540           1        30   \n",
       "18058      201510      132343      11560   11560540           1        30   \n",
       "\n",
       "       TMZON_CD  FLPOP_CO  \n",
       "26            5         6  \n",
       "124           5        62  \n",
       "222           5        58  \n",
       "320           5        78  \n",
       "418           5        83  \n",
       "...         ...       ...  \n",
       "17666         5        18  \n",
       "17764         5         9  \n",
       "17862         5        15  \n",
       "17960         5         7  \n",
       "18058         5        17  \n",
       "\n",
       "[185 rows x 8 columns]"
      ]
     },
     "execution_count": 45,
     "metadata": {},
     "output_type": "execute_result"
    }
   ],
   "source": [
    "# 'STDR_YM_CD' 값이 201510인 데이터 필터링\n",
    "filtered_population_data = population_data[\n",
    "    (population_data['STDR_YM_CD'] == 201510) &\n",
    "    (population_data['DAYWEEK_CD'] == 1) &\n",
    "    (population_data['AGRDE_CD'] == 30) &\n",
    "    (population_data['TMZON_CD'] == 5)\n",
    "    ] \n",
    "\n",
    "filtered_population_data"
   ]
  },
  {
   "cell_type": "code",
   "execution_count": null,
   "metadata": {},
   "outputs": [],
   "source": []
  },
  {
   "cell_type": "code",
   "execution_count": 16,
   "metadata": {},
   "outputs": [],
   "source": [
    "# 2. shp 파일 로드\n",
    "road_shape_data = gpd.read_file('/Volumes/T7 Shield/응용통계학과/3학년 2학기/공모전/2023 서울시 빅데이터캠퍼스 공모전/Recent_Resource/seoul_feat/NGII_CDM_도로경계/N3L_A0010000.shp')"
   ]
  },
  {
   "cell_type": "code",
   "execution_count": 17,
   "metadata": {},
   "outputs": [
    {
     "data": {
      "text/plain": [
       "(                                 UFID      SCLS       FMTA  \\\n",
       " 0  1000035715049A00110000000000000001  A0013118  R16010001   \n",
       " 1  1000035715049A00110000000000000002  A0013118  R16010001   \n",
       " 2  1000035715049A00110000000000000003  A0013118  R16010001   \n",
       " 3  1000035715049A00110000000000000004  A0013118  R16010001   \n",
       " 4  1000035715048A00110000000000000005  A0013118  R16010001   \n",
       " \n",
       "                                             geometry  \n",
       " 0  LINESTRING (1018385.186 1682660.628, 1018385.7...  \n",
       " 1  LINESTRING (1018372.537 1682661.233, 1018373.5...  \n",
       " 2  LINESTRING (1018380.755 1682656.692, 1018381.9...  \n",
       " 3  LINESTRING (1018369.509 1682656.294, 1018368.5...  \n",
       " 4  LINESTRING (1017121.357 1681866.733, 1017123.9...  ,\n",
       " <LINESTRING (1.02e+06 1.68e+06, 1.02e+06 1.68e+06)>)"
      ]
     },
     "execution_count": 17,
     "metadata": {},
     "output_type": "execute_result"
    }
   ],
   "source": [
    "# 데이터의 처음 몇 행 및 공간 정보를 확인\n",
    "road_shape_data.head(), road_shape_data.geometry.iloc[0]"
   ]
  },
  {
   "cell_type": "code",
   "execution_count": 46,
   "metadata": {},
   "outputs": [
    {
     "name": "stderr",
     "output_type": "stream",
     "text": [
      "/opt/homebrew/anaconda3/envs/my_env/lib/python3.10/site-packages/geopandas/plotting.py:48: ShapelyDeprecationWarning: The 'type' attribute is deprecated, and will be removed in the future. You can use the 'geom_type' attribute instead.\n",
      "  if geom is not None and geom.type.startswith(prefix) and not geom.is_empty:\n"
     ]
    },
    {
     "data": {
      "text/plain": [
       "<Axes: >"
      ]
     },
     "execution_count": 46,
     "metadata": {},
     "output_type": "execute_result"
    },
    {
     "data": {
      "image/png": "[encoded data removed]",
      "text/plain": [
       "<Figure size 640x480 with 1 Axes>"
      ]
     },
     "metadata": {},
     "output_type": "display_data"
    }
   ],
   "source": [
    "road_shape_data.plot()"
   ]
  },
  {
   "cell_type": "code",
   "execution_count": 18,
   "metadata": {},
   "outputs": [],
   "source": [
    "# 3. 도로 라인을 10m 간격의 포인트로 변환합니다.\n",
    "from shapely.geometry import Point\n",
    "\n",
    "def line_to_points(linestring, interval=10):\n",
    "    \"\"\"라인을 주어진 간격의 포인트로 변환하는 함수\"\"\"\n",
    "    points = []\n",
    "    length = linestring.length\n",
    "    num_points = int(length / interval) + 1\n",
    "    for i in range(num_points):\n",
    "        point = linestring.interpolate(i * interval)\n",
    "        points.append(Point(point.x, point.y))\n",
    "    return points"
   ]
  },
  {
   "cell_type": "code",
   "execution_count": 19,
   "metadata": {},
   "outputs": [],
   "source": [
    "import numpy as np\n",
    "from shapely.geometry import Point, LineString\n",
    "\n",
    "# 도로 라인을 10m 간격의 포인트로 변환하는 함수\n",
    "def line_to_points(linestring, interval=10):\n",
    "    length = linestring.length\n",
    "    return [linestring.interpolate(distance) for distance in np.arange(0, length, interval)]"
   ]
  },
  {
   "cell_type": "code",
   "execution_count": 20,
   "metadata": {},
   "outputs": [
    {
     "data": {
      "text/plain": [
       "[<POINT (1.02e+06 1.68e+06)>]"
      ]
     },
     "execution_count": 20,
     "metadata": {},
     "output_type": "execute_result"
    }
   ],
   "source": [
    "# 가상의 도로 데이터 기반으로 10m 간격의 포인트를 생성\n",
    "sample_road = LineString([(1018385.186, 1682660.628), (1018385.7, 1682660.5)])\n",
    "all_points = line_to_points(sample_road)\n",
    "\n",
    "all_points"
   ]
  },
  {
   "cell_type": "code",
   "execution_count": 22,
   "metadata": {},
   "outputs": [
    {
     "data": {
      "text/plain": [
       "0"
      ]
     },
     "execution_count": 22,
     "metadata": {},
     "output_type": "execute_result"
    }
   ],
   "source": [
    "# 가상의 도로 데이터와 유동인구 데이터를 기반으로 유동인구 할당\n",
    "# (실제 데이터 연결은 제공된 데이터에 따라 다를 수 있습니다.)\n",
    "# 가상의 도로 데이터와 유동인구 데이터를 기반으로 유동인구 할당\n",
    "sample_road_id = \"1000035715049A00110000000000000001\"\n",
    "sample_population = population_data[population_data[\"RD_LINK_ID\"] == sample_road_id].FLPOP_CO.sum()\n",
    "\n",
    "sample_population"
   ]
  },
  {
   "cell_type": "code",
   "execution_count": 9,
   "metadata": {},
   "outputs": [
    {
     "ename": "KeyError",
     "evalue": "'road_id'",
     "output_type": "error",
     "traceback": [
      "\u001b[0;31m---------------------------------------------------------------------------\u001b[0m",
      "\u001b[0;31mKeyError\u001b[0m                                  Traceback (most recent call last)",
      "File \u001b[0;32m/opt/homebrew/anaconda3/envs/my_env/lib/python3.10/site-packages/pandas/core/indexes/base.py:3653\u001b[0m, in \u001b[0;36mget_loc\u001b[0;34m(self, key)\u001b[0m\n\u001b[1;32m   3652\u001b[0m \u001b[39mif\u001b[39;00m \u001b[39misinstance\u001b[39m(this, ABCMultiIndex):\n\u001b[0;32m-> 3653\u001b[0m     the_diff \u001b[39m=\u001b[39m this\u001b[39m.\u001b[39mtake(label_diff)\n\u001b[1;32m   3654\u001b[0m \u001b[39melse\u001b[39;00m:\n",
      "File \u001b[0;32m/opt/homebrew/anaconda3/envs/my_env/lib/python3.10/site-packages/pandas/_libs/index.pyx:147\u001b[0m, in \u001b[0;36mpandas._libs.index.IndexEngine.get_loc\u001b[0;34m()\u001b[0m\n",
      "File \u001b[0;32m/opt/homebrew/anaconda3/envs/my_env/lib/python3.10/site-packages/pandas/_libs/index.pyx:176\u001b[0m, in \u001b[0;36mpandas._libs.index.IndexEngine.get_loc\u001b[0;34m()\u001b[0m\n",
      "File \u001b[0;32mpandas/_libs/hashtable_class_helper.pxi:7080\u001b[0m, in \u001b[0;36mpandas._libs.hashtable.PyObjectHashTable.get_item\u001b[0;34m()\u001b[0m\n",
      "File \u001b[0;32mpandas/_libs/hashtable_class_helper.pxi:7088\u001b[0m, in \u001b[0;36mpandas._libs.hashtable.PyObjectHashTable.get_item\u001b[0;34m()\u001b[0m\n",
      "\u001b[0;31mKeyError\u001b[0m: 'road_id'",
      "\nThe above exception was the direct cause of the following exception:\n",
      "\u001b[0;31mKeyError\u001b[0m                                  Traceback (most recent call last)",
      "\u001b[1;32m/Volumes/T7 Shield/응용통계학과/3학년 2학기/공모전/2023 서울시 빅데이터캠퍼스 공모전/Recent_Resource/밀집도.ipynb 셀 5\u001b[0m line \u001b[0;36m4\n\u001b[1;32m      <a href='vscode-notebook-cell:/Volumes/T7%20Shield/%EC%9D%91%EC%9A%A9%ED%86%B5%EA%B3%84%ED%95%99%EA%B3%BC/3%ED%95%99%EB%85%84%202%ED%95%99%EA%B8%B0/%EA%B3%B5%EB%AA%A8%EC%A0%84/2023%20%EC%84%9C%EC%9A%B8%EC%8B%9C%20%EB%B9%85%EB%8D%B0%EC%9D%B4%ED%84%B0%EC%BA%A0%ED%8D%BC%EC%8A%A4%20%EA%B3%B5%EB%AA%A8%EC%A0%84/Recent_Resource/%EB%B0%80%EC%A7%91%EB%8F%84.ipynb#W4sZmlsZQ%3D%3D?line=0'>1</a>\u001b[0m \u001b[39m# 4. 각 10m 포인트에 유동인구 데이터를 할당합니다.\u001b[39;00m\n\u001b[1;32m      <a href='vscode-notebook-cell:/Volumes/T7%20Shield/%EC%9D%91%EC%9A%A9%ED%86%B5%EA%B3%84%ED%95%99%EA%B3%BC/3%ED%95%99%EB%85%84%202%ED%95%99%EA%B8%B0/%EA%B3%B5%EB%AA%A8%EC%A0%84/2023%20%EC%84%9C%EC%9A%B8%EC%8B%9C%20%EB%B9%85%EB%8D%B0%EC%9D%B4%ED%84%B0%EC%BA%A0%ED%8D%BC%EC%8A%A4%20%EA%B3%B5%EB%AA%A8%EC%A0%84/Recent_Resource/%EB%B0%80%EC%A7%91%EB%8F%84.ipynb#W4sZmlsZQ%3D%3D?line=1'>2</a>\u001b[0m \u001b[39m# 유동인구 데이터와 도로링크 데이터의 형식에 따라 할당 로직을 작성합니다.\u001b[39;00m\n\u001b[1;32m      <a href='vscode-notebook-cell:/Volumes/T7%20Shield/%EC%9D%91%EC%9A%A9%ED%86%B5%EA%B3%84%ED%95%99%EA%B3%BC/3%ED%95%99%EB%85%84%202%ED%95%99%EA%B8%B0/%EA%B3%B5%EB%AA%A8%EC%A0%84/2023%20%EC%84%9C%EC%9A%B8%EC%8B%9C%20%EB%B9%85%EB%8D%B0%EC%9D%B4%ED%84%B0%EC%BA%A0%ED%8D%BC%EC%8A%A4%20%EA%B3%B5%EB%AA%A8%EC%A0%84/Recent_Resource/%EB%B0%80%EC%A7%91%EB%8F%84.ipynb#W4sZmlsZQ%3D%3D?line=2'>3</a>\u001b[0m \u001b[39mfor\u001b[39;00m idx, row \u001b[39min\u001b[39;00m gdf\u001b[39m.\u001b[39miterrows():\n\u001b[0;32m----> <a href='vscode-notebook-cell:/Volumes/T7%20Shield/%EC%9D%91%EC%9A%A9%ED%86%B5%EA%B3%84%ED%95%99%EA%B3%BC/3%ED%95%99%EB%85%84%202%ED%95%99%EA%B8%B0/%EA%B3%B5%EB%AA%A8%EC%A0%84/2023%20%EC%84%9C%EC%9A%B8%EC%8B%9C%20%EB%B9%85%EB%8D%B0%EC%9D%B4%ED%84%B0%EC%BA%A0%ED%8D%BC%EC%8A%A4%20%EA%B3%B5%EB%AA%A8%EC%A0%84/Recent_Resource/%EB%B0%80%EC%A7%91%EB%8F%84.ipynb#W4sZmlsZQ%3D%3D?line=3'>4</a>\u001b[0m     road_id \u001b[39m=\u001b[39m row[\u001b[39m'\u001b[39;49m\u001b[39mroad_id\u001b[39;49m\u001b[39m'\u001b[39;49m]  \u001b[39m# 이 부분은 실제 도로 ID 컬럼에 맞게 수정해야 합니다.\u001b[39;00m\n\u001b[1;32m      <a href='vscode-notebook-cell:/Volumes/T7%20Shield/%EC%9D%91%EC%9A%A9%ED%86%B5%EA%B3%84%ED%95%99%EA%B3%BC/3%ED%95%99%EB%85%84%202%ED%95%99%EA%B8%B0/%EA%B3%B5%EB%AA%A8%EC%A0%84/2023%20%EC%84%9C%EC%9A%B8%EC%8B%9C%20%EB%B9%85%EB%8D%B0%EC%9D%B4%ED%84%B0%EC%BA%A0%ED%8D%BC%EC%8A%A4%20%EA%B3%B5%EB%AA%A8%EC%A0%84/Recent_Resource/%EB%B0%80%EC%A7%91%EB%8F%84.ipynb#W4sZmlsZQ%3D%3D?line=4'>5</a>\u001b[0m     population \u001b[39m=\u001b[39m population_data[population_data[\u001b[39m'\u001b[39m\u001b[39mroad_id\u001b[39m\u001b[39m'\u001b[39m] \u001b[39m==\u001b[39m road_id][\u001b[39m'\u001b[39m\u001b[39mpopulation\u001b[39m\u001b[39m'\u001b[39m]\u001b[39m.\u001b[39mvalues[\u001b[39m0\u001b[39m]\n\u001b[1;32m      <a href='vscode-notebook-cell:/Volumes/T7%20Shield/%EC%9D%91%EC%9A%A9%ED%86%B5%EA%B3%84%ED%95%99%EA%B3%BC/3%ED%95%99%EB%85%84%202%ED%95%99%EA%B8%B0/%EA%B3%B5%EB%AA%A8%EC%A0%84/2023%20%EC%84%9C%EC%9A%B8%EC%8B%9C%20%EB%B9%85%EB%8D%B0%EC%9D%B4%ED%84%B0%EC%BA%A0%ED%8D%BC%EC%8A%A4%20%EA%B3%B5%EB%AA%A8%EC%A0%84/Recent_Resource/%EB%B0%80%EC%A7%91%EB%8F%84.ipynb#W4sZmlsZQ%3D%3D?line=5'>6</a>\u001b[0m     \u001b[39mfor\u001b[39;00m point \u001b[39min\u001b[39;00m row[\u001b[39m'\u001b[39m\u001b[39mpoints\u001b[39m\u001b[39m'\u001b[39m]:\n\u001b[1;32m      <a href='vscode-notebook-cell:/Volumes/T7%20Shield/%EC%9D%91%EC%9A%A9%ED%86%B5%EA%B3%84%ED%95%99%EA%B3%BC/3%ED%95%99%EB%85%84%202%ED%95%99%EA%B8%B0/%EA%B3%B5%EB%AA%A8%EC%A0%84/2023%20%EC%84%9C%EC%9A%B8%EC%8B%9C%20%EB%B9%85%EB%8D%B0%EC%9D%B4%ED%84%B0%EC%BA%A0%ED%8D%BC%EC%8A%A4%20%EA%B3%B5%EB%AA%A8%EC%A0%84/Recent_Resource/%EB%B0%80%EC%A7%91%EB%8F%84.ipynb#W4sZmlsZQ%3D%3D?line=6'>7</a>\u001b[0m         \u001b[39m# 포인트별로 할당할 유동인구 데이터를 계산합니다. (예: 도로의 전체 인구 / 포인트 수)\u001b[39;00m\n",
      "File \u001b[0;32m/opt/homebrew/anaconda3/envs/my_env/lib/python3.10/site-packages/pandas/core/series.py:1007\u001b[0m, in \u001b[0;36m__getitem__\u001b[0;34m(self, key)\u001b[0m\n\u001b[1;32m    995\u001b[0m \u001b[39mdef\u001b[39;00m \u001b[39m_ixs\u001b[39m(\u001b[39mself\u001b[39m, i: \u001b[39mint\u001b[39m, axis: AxisInt \u001b[39m=\u001b[39m \u001b[39m0\u001b[39m) \u001b[39m-\u001b[39m\u001b[39m>\u001b[39m Any:\n\u001b[1;32m    996\u001b[0m \u001b[39m    \u001b[39m\u001b[39m\"\"\"\u001b[39;00m\n\u001b[1;32m    997\u001b[0m \u001b[39m    Return the i-th value or values in the Series by location.\u001b[39;00m\n\u001b[1;32m    998\u001b[0m \n\u001b[0;32m   (...)\u001b[0m\n\u001b[1;32m   1005\u001b[0m \u001b[39m    scalar (int) or Series (slice, sequence)\u001b[39;00m\n\u001b[1;32m   1006\u001b[0m \u001b[39m    \"\"\"\u001b[39;00m\n\u001b[0;32m-> 1007\u001b[0m     \u001b[39mreturn\u001b[39;00m \u001b[39mself\u001b[39m\u001b[39m.\u001b[39m_values[i]\n",
      "File \u001b[0;32m/opt/homebrew/anaconda3/envs/my_env/lib/python3.10/site-packages/pandas/core/series.py:1116\u001b[0m, in \u001b[0;36m_get_value\u001b[0;34m(self, label, takeable)\u001b[0m\n\u001b[1;32m   1112\u001b[0m     # handle the dup indexing case GH#4246\n\u001b[1;32m   1113\u001b[0m     return self.loc[key]\n\u001b[1;32m   1115\u001b[0m def _get_values_tuple(self, key: tuple):\n\u001b[0;32m-> 1116\u001b[0m     # mpl hackaround\n\u001b[1;32m   1117\u001b[0m     if com.any_none(*key):\n\u001b[1;32m   1118\u001b[0m         # mpl compat if we look up e.g. ser[:, np.newaxis];\n\u001b[1;32m   1119\u001b[0m         #  see tests.series.timeseries.test_mpl_compat_hack\n\u001b[1;32m   1120\u001b[0m         # the asarray is needed to avoid returning a 2D DatetimeArray\n\u001b[1;32m   1121\u001b[0m         result = np.asarray(self._values[key])\n",
      "File \u001b[0;32m/opt/homebrew/anaconda3/envs/my_env/lib/python3.10/site-packages/pandas/core/indexes/base.py:3655\u001b[0m, in \u001b[0;36mget_loc\u001b[0;34m(self, key)\u001b[0m\n\u001b[1;32m   3653\u001b[0m     the_diff \u001b[39m=\u001b[39m this\u001b[39m.\u001b[39mtake(label_diff)\n\u001b[1;32m   3654\u001b[0m \u001b[39melse\u001b[39;00m:\n\u001b[0;32m-> 3655\u001b[0m     the_diff \u001b[39m=\u001b[39m this\u001b[39m.\u001b[39m_values\u001b[39m.\u001b[39mtake(label_diff)\n\u001b[1;32m   3656\u001b[0m the_diff \u001b[39m=\u001b[39m _maybe_try_sort(the_diff, sort)\n\u001b[1;32m   3658\u001b[0m \u001b[39mreturn\u001b[39;00m the_diff\n",
      "\u001b[0;31mKeyError\u001b[0m: 'road_id'"
     ]
    }
   ],
   "source": [
    "# 4. 각 10m 포인트에 유동인구 데이터를 할당합니다.\n",
    "# 유동인구 데이터와 도로링크 데이터의 형식에 따라 할당 로직을 작성합니다.\n",
    "for idx, row in gdf.iterrows():\n",
    "    road_id = row['road_id']  # 이 부분은 실제 도로 ID 컬럼에 맞게 수정해야 합니다.\n",
    "    population = population_data[population_data['road_id'] == road_id]['population'].values[0]\n",
    "    for point in row['points']:\n",
    "        # 포인트별로 할당할 유동인구 데이터를 계산합니다. (예: 도로의 전체 인구 / 포인트 수)\n",
    "        point_population = population / len(row['points'])\n"
   ]
  },
  {
   "cell_type": "code",
   "execution_count": null,
   "metadata": {},
   "outputs": [],
   "source": [
    "# 5. 추정된 포인트를 다시 라인으로 변환하여 화면에 표출합니다.\n",
    "gdf['geometry'] = gdf['points'].apply(LineString)\n",
    "gdf.plot()"
   ]
  }
 ],
 "metadata": {
  "kernelspec": {
   "display_name": "my_env",
   "language": "python",
   "name": "python3"
  },
  "language_info": {
   "codemirror_mode": {
    "name": "ipython",
    "version": 3
   },
   "file_extension": ".py",
   "mimetype": "text/x-python",
   "name": "python",
   "nbconvert_exporter": "python",
   "pygments_lexer": "ipython3",
   "version": "3.10.12"
  }
 },
 "nbformat": 4,
 "nbformat_minor": 2
}
